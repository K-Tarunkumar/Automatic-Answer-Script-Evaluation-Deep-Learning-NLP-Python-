{
 "cells": [
  {
   "cell_type": "code",
   "execution_count": 2,
   "metadata": {
    "execution": {
     "iopub.execute_input": "2023-03-14T20:08:29.889825Z",
     "iopub.status.busy": "2023-03-14T20:08:29.889424Z",
     "iopub.status.idle": "2023-03-14T20:08:42.232003Z",
     "shell.execute_reply": "2023-03-14T20:08:42.230598Z",
     "shell.execute_reply.started": "2023-03-14T20:08:29.889792Z"
    }
   },
   "outputs": [
    {
     "name": "stdout",
     "output_type": "stream",
     "text": [
      "Collecting Keras-Preprocessing\n",
      "  Downloading Keras_Preprocessing-1.1.2-py2.py3-none-any.whl (42 kB)\n",
      "\u001b[2K     \u001b[90m━━━━━━━━━━━━━━━━━━━━━━━━━━━━━━━━━━━━━━━━\u001b[0m \u001b[32m42.6/42.6 kB\u001b[0m \u001b[31m1.5 MB/s\u001b[0m eta \u001b[36m0:00:00\u001b[0m\n",
      "\u001b[?25hRequirement already satisfied: numpy>=1.9.1 in /opt/conda/lib/python3.7/site-packages (from Keras-Preprocessing) (1.21.6)\n",
      "Requirement already satisfied: six>=1.9.0 in /opt/conda/lib/python3.7/site-packages (from Keras-Preprocessing) (1.16.0)\n",
      "Installing collected packages: Keras-Preprocessing\n",
      "Successfully installed Keras-Preprocessing-1.1.2\n",
      "\u001b[33mWARNING: Running pip as the 'root' user can result in broken permissions and conflicting behaviour with the system package manager. It is recommended to use a virtual environment instead: https://pip.pypa.io/warnings/venv\u001b[0m\u001b[33m\n",
      "\u001b[0m"
     ]
    }
   ],
   "source": [
    "!pip install Keras-Preprocessing"
   ]
  },
  {
   "cell_type": "code",
   "execution_count": 3,
   "metadata": {
    "execution": {
     "iopub.execute_input": "2023-03-14T20:08:53.979289Z",
     "iopub.status.busy": "2023-03-14T20:08:53.978811Z",
     "iopub.status.idle": "2023-03-14T20:08:53.991914Z",
     "shell.execute_reply": "2023-03-14T20:08:53.990959Z",
     "shell.execute_reply.started": "2023-03-14T20:08:53.979245Z"
    }
   },
   "outputs": [],
   "source": [
    "import tensorflow as tf\n",
    "from tensorflow.keras.layers import Input, Embedding, LSTM, Dropout, Dense\n",
    "from tensorflow.keras.models import Model\n",
    "import numpy as np \n",
    "import pandas as pd\n",
    "import os\n",
    "import re\n",
    "\n",
    "import nltk\n",
    "from nltk.corpus import stopwords\n",
    "from sklearn.feature_extraction.text import TfidfVectorizer\n",
    "from sklearn.decomposition import TruncatedSVD\n",
    "from keras.preprocessing.text import Tokenizer\n",
    "\n",
    "from keras.layers import Input, Dense, Dropout, Embedding, LSTM, Conv1D, MaxPooling1D, Bidirectional, Concatenate, Reshape\n",
    "from keras.models import Model\n",
    "from keras.optimizers import Adam\n",
    "from keras.preprocessing.text import Tokenizer\n",
    "from keras_preprocessing.sequence import pad_sequences"
   ]
  },
  {
   "cell_type": "code",
   "execution_count": 4,
   "metadata": {
    "execution": {
     "iopub.execute_input": "2023-03-14T20:09:47.735329Z",
     "iopub.status.busy": "2023-03-14T20:09:47.734590Z",
     "iopub.status.idle": "2023-03-14T20:09:47.742205Z",
     "shell.execute_reply": "2023-03-14T20:09:47.740687Z",
     "shell.execute_reply.started": "2023-03-14T20:09:47.735285Z"
    }
   },
   "outputs": [],
   "source": [
    "\n",
    "from sklearn.model_selection import train_test_split\n",
    "\n",
    "from keras.layers import Input, Embedding, LSTM, Dropout, Dense\n",
    "from keras.callbacks import EarlyStopping"
   ]
  },
  {
   "cell_type": "code",
   "execution_count": 5,
   "metadata": {
    "execution": {
     "iopub.execute_input": "2023-03-14T20:09:53.523190Z",
     "iopub.status.busy": "2023-03-14T20:09:53.522785Z",
     "iopub.status.idle": "2023-03-14T20:09:53.587811Z",
     "shell.execute_reply": "2023-03-14T20:09:53.586510Z",
     "shell.execute_reply.started": "2023-03-14T20:09:53.523155Z"
    }
   },
   "outputs": [],
   "source": [
    "df = pd.read_csv('/kaggle/input/answerscript4/p7.csv')"
   ]
  },
  {
   "cell_type": "code",
   "execution_count": 6,
   "metadata": {
    "execution": {
     "iopub.execute_input": "2023-03-14T20:09:53.590546Z",
     "iopub.status.busy": "2023-03-14T20:09:53.590168Z",
     "iopub.status.idle": "2023-03-14T20:09:53.686713Z",
     "shell.execute_reply": "2023-03-14T20:09:53.685297Z",
     "shell.execute_reply.started": "2023-03-14T20:09:53.590512Z"
    }
   },
   "outputs": [
    {
     "name": "stdout",
     "output_type": "stream",
     "text": [
      "[nltk_data] Downloading package stopwords to /usr/share/nltk_data...\n",
      "[nltk_data]   Package stopwords is already up-to-date!\n"
     ]
    },
    {
     "data": {
      "text/plain": [
       "True"
      ]
     },
     "execution_count": 6,
     "metadata": {},
     "output_type": "execute_result"
    }
   ],
   "source": [
    "import nltk\n",
    "from nltk.corpus import stopwords\n",
    "nltk.download('stopwords')"
   ]
  },
  {
   "cell_type": "code",
   "execution_count": 14,
   "metadata": {
    "execution": {
     "iopub.execute_input": "2023-03-14T20:11:55.903095Z",
     "iopub.status.busy": "2023-03-14T20:11:55.902480Z",
     "iopub.status.idle": "2023-03-14T20:11:55.912989Z",
     "shell.execute_reply": "2023-03-14T20:11:55.911919Z",
     "shell.execute_reply.started": "2023-03-14T20:11:55.903061Z"
    }
   },
   "outputs": [],
   "source": [
    "df_ind = df.loc[df['essay_set']==7]\n",
    "\n",
    "df_ind = df_ind[['essay','domain1_score']]\n",
    "\n",
    "df_ind = df_ind.sort_values(by= [\"domain1_score\"], ascending=False)\n",
    "answer_sheet = df_ind.iloc[0]['essay']\n",
    "df_ind = df_ind.drop(0)\n",
    "students_answers = list(df['essay'].values)\n",
    "marks_org = list(df['domain1_score'].values)\n",
    "t=max(marks_org)\n",
    "#df.apply(preprocess_text1,pandas column name)\n"
   ]
  },
  {
   "cell_type": "code",
   "execution_count": 15,
   "metadata": {
    "execution": {
     "iopub.execute_input": "2023-03-14T20:12:03.639542Z",
     "iopub.status.busy": "2023-03-14T20:12:03.639129Z",
     "iopub.status.idle": "2023-03-14T20:12:03.668146Z",
     "shell.execute_reply": "2023-03-14T20:12:03.666824Z",
     "shell.execute_reply.started": "2023-03-14T20:12:03.639506Z"
    }
   },
   "outputs": [
    {
     "data": {
      "text/html": [
       "<div>\n",
       "<style scoped>\n",
       "    .dataframe tbody tr th:only-of-type {\n",
       "        vertical-align: middle;\n",
       "    }\n",
       "\n",
       "    .dataframe tbody tr th {\n",
       "        vertical-align: top;\n",
       "    }\n",
       "\n",
       "    .dataframe thead th {\n",
       "        text-align: right;\n",
       "    }\n",
       "</style>\n",
       "<table border=\"1\" class=\"dataframe\">\n",
       "  <thead>\n",
       "    <tr style=\"text-align: right;\">\n",
       "      <th></th>\n",
       "      <th>Unnamed: 0</th>\n",
       "      <th>essay_id</th>\n",
       "      <th>essay_set</th>\n",
       "      <th>essay</th>\n",
       "      <th>rater1_domain1</th>\n",
       "      <th>rater2_domain1</th>\n",
       "      <th>rater3_domain1</th>\n",
       "      <th>domain1_score</th>\n",
       "      <th>rater1_domain2</th>\n",
       "      <th>rater2_domain2</th>\n",
       "      <th>...</th>\n",
       "      <th>rater2_trait3</th>\n",
       "      <th>rater2_trait4</th>\n",
       "      <th>rater2_trait5</th>\n",
       "      <th>rater2_trait6</th>\n",
       "      <th>rater3_trait1</th>\n",
       "      <th>rater3_trait2</th>\n",
       "      <th>rater3_trait3</th>\n",
       "      <th>rater3_trait4</th>\n",
       "      <th>rater3_trait5</th>\n",
       "      <th>rater3_trait6</th>\n",
       "    </tr>\n",
       "  </thead>\n",
       "  <tbody>\n",
       "    <tr>\n",
       "      <th>0</th>\n",
       "      <td>10686</td>\n",
       "      <td>17834</td>\n",
       "      <td>7</td>\n",
       "      <td>Patience is when your waiting .I was patience ...</td>\n",
       "      <td>8.0</td>\n",
       "      <td>7.0</td>\n",
       "      <td>NaN</td>\n",
       "      <td>15.0</td>\n",
       "      <td>NaN</td>\n",
       "      <td>NaN</td>\n",
       "      <td>...</td>\n",
       "      <td>2.0</td>\n",
       "      <td>2.0</td>\n",
       "      <td>NaN</td>\n",
       "      <td>NaN</td>\n",
       "      <td>NaN</td>\n",
       "      <td>NaN</td>\n",
       "      <td>NaN</td>\n",
       "      <td>NaN</td>\n",
       "      <td>NaN</td>\n",
       "      <td>NaN</td>\n",
       "    </tr>\n",
       "    <tr>\n",
       "      <th>1</th>\n",
       "      <td>10687</td>\n",
       "      <td>17836</td>\n",
       "      <td>7</td>\n",
       "      <td>I am not a patience person, like I can’t sit i...</td>\n",
       "      <td>6.0</td>\n",
       "      <td>7.0</td>\n",
       "      <td>NaN</td>\n",
       "      <td>13.0</td>\n",
       "      <td>NaN</td>\n",
       "      <td>NaN</td>\n",
       "      <td>...</td>\n",
       "      <td>2.0</td>\n",
       "      <td>1.0</td>\n",
       "      <td>NaN</td>\n",
       "      <td>NaN</td>\n",
       "      <td>NaN</td>\n",
       "      <td>NaN</td>\n",
       "      <td>NaN</td>\n",
       "      <td>NaN</td>\n",
       "      <td>NaN</td>\n",
       "      <td>NaN</td>\n",
       "    </tr>\n",
       "    <tr>\n",
       "      <th>2</th>\n",
       "      <td>10688</td>\n",
       "      <td>17837</td>\n",
       "      <td>7</td>\n",
       "      <td>One day I was at basketball practice and I was...</td>\n",
       "      <td>7.0</td>\n",
       "      <td>8.0</td>\n",
       "      <td>NaN</td>\n",
       "      <td>15.0</td>\n",
       "      <td>NaN</td>\n",
       "      <td>NaN</td>\n",
       "      <td>...</td>\n",
       "      <td>2.0</td>\n",
       "      <td>2.0</td>\n",
       "      <td>NaN</td>\n",
       "      <td>NaN</td>\n",
       "      <td>NaN</td>\n",
       "      <td>NaN</td>\n",
       "      <td>NaN</td>\n",
       "      <td>NaN</td>\n",
       "      <td>NaN</td>\n",
       "      <td>NaN</td>\n",
       "    </tr>\n",
       "    <tr>\n",
       "      <th>3</th>\n",
       "      <td>10689</td>\n",
       "      <td>17838</td>\n",
       "      <td>7</td>\n",
       "      <td>I going to write about a time when I went to t...</td>\n",
       "      <td>8.0</td>\n",
       "      <td>9.0</td>\n",
       "      <td>NaN</td>\n",
       "      <td>17.0</td>\n",
       "      <td>NaN</td>\n",
       "      <td>NaN</td>\n",
       "      <td>...</td>\n",
       "      <td>2.0</td>\n",
       "      <td>3.0</td>\n",
       "      <td>NaN</td>\n",
       "      <td>NaN</td>\n",
       "      <td>NaN</td>\n",
       "      <td>NaN</td>\n",
       "      <td>NaN</td>\n",
       "      <td>NaN</td>\n",
       "      <td>NaN</td>\n",
       "      <td>NaN</td>\n",
       "    </tr>\n",
       "    <tr>\n",
       "      <th>4</th>\n",
       "      <td>10690</td>\n",
       "      <td>17839</td>\n",
       "      <td>7</td>\n",
       "      <td>It can be very hard for somebody to be patient...</td>\n",
       "      <td>7.0</td>\n",
       "      <td>6.0</td>\n",
       "      <td>NaN</td>\n",
       "      <td>13.0</td>\n",
       "      <td>NaN</td>\n",
       "      <td>NaN</td>\n",
       "      <td>...</td>\n",
       "      <td>1.0</td>\n",
       "      <td>2.0</td>\n",
       "      <td>NaN</td>\n",
       "      <td>NaN</td>\n",
       "      <td>NaN</td>\n",
       "      <td>NaN</td>\n",
       "      <td>NaN</td>\n",
       "      <td>NaN</td>\n",
       "      <td>NaN</td>\n",
       "      <td>NaN</td>\n",
       "    </tr>\n",
       "  </tbody>\n",
       "</table>\n",
       "<p>5 rows × 29 columns</p>\n",
       "</div>"
      ],
      "text/plain": [
       "   Unnamed: 0  essay_id  essay_set  \\\n",
       "0       10686     17834          7   \n",
       "1       10687     17836          7   \n",
       "2       10688     17837          7   \n",
       "3       10689     17838          7   \n",
       "4       10690     17839          7   \n",
       "\n",
       "                                               essay  rater1_domain1  \\\n",
       "0  Patience is when your waiting .I was patience ...             8.0   \n",
       "1  I am not a patience person, like I can’t sit i...             6.0   \n",
       "2  One day I was at basketball practice and I was...             7.0   \n",
       "3  I going to write about a time when I went to t...             8.0   \n",
       "4  It can be very hard for somebody to be patient...             7.0   \n",
       "\n",
       "   rater2_domain1  rater3_domain1  domain1_score  rater1_domain2  \\\n",
       "0             7.0             NaN           15.0             NaN   \n",
       "1             7.0             NaN           13.0             NaN   \n",
       "2             8.0             NaN           15.0             NaN   \n",
       "3             9.0             NaN           17.0             NaN   \n",
       "4             6.0             NaN           13.0             NaN   \n",
       "\n",
       "   rater2_domain2  ...  rater2_trait3  rater2_trait4  rater2_trait5  \\\n",
       "0             NaN  ...            2.0            2.0            NaN   \n",
       "1             NaN  ...            2.0            1.0            NaN   \n",
       "2             NaN  ...            2.0            2.0            NaN   \n",
       "3             NaN  ...            2.0            3.0            NaN   \n",
       "4             NaN  ...            1.0            2.0            NaN   \n",
       "\n",
       "   rater2_trait6  rater3_trait1  rater3_trait2  rater3_trait3  rater3_trait4  \\\n",
       "0            NaN            NaN            NaN            NaN            NaN   \n",
       "1            NaN            NaN            NaN            NaN            NaN   \n",
       "2            NaN            NaN            NaN            NaN            NaN   \n",
       "3            NaN            NaN            NaN            NaN            NaN   \n",
       "4            NaN            NaN            NaN            NaN            NaN   \n",
       "\n",
       "   rater3_trait5  rater3_trait6  \n",
       "0            NaN            NaN  \n",
       "1            NaN            NaN  \n",
       "2            NaN            NaN  \n",
       "3            NaN            NaN  \n",
       "4            NaN            NaN  \n",
       "\n",
       "[5 rows x 29 columns]"
      ]
     },
     "execution_count": 15,
     "metadata": {},
     "output_type": "execute_result"
    }
   ],
   "source": [
    "df.head()"
   ]
  },
  {
   "cell_type": "code",
   "execution_count": 16,
   "metadata": {
    "execution": {
     "iopub.execute_input": "2023-03-14T20:12:03.670654Z",
     "iopub.status.busy": "2023-03-14T20:12:03.670296Z",
     "iopub.status.idle": "2023-03-14T20:12:39.928167Z",
     "shell.execute_reply": "2023-03-14T20:12:39.927124Z",
     "shell.execute_reply.started": "2023-03-14T20:12:03.670621Z"
    }
   },
   "outputs": [],
   "source": [
    "\n",
    "\n",
    "# Set the random seed for reproducibility\n",
    "np.random.seed(42)\n",
    "\n",
    "# Set the maximum sequence length and embedding dimension\n",
    "MAX_SEQUENCE_LENGTH = 1000\n",
    "EMBEDDING_DIM = 100\n",
    "\n",
    "# Set the number of LSTM units and dropout rate\n",
    "NUM_LSTM_UNITS = 128\n",
    "DROPOUT_RATE = 0.2\n",
    "\n",
    "# Set the batch size and number of epochs\n",
    "BATCH_SIZE = 64\n",
    "EPOCHS = 10\n",
    "\n",
    "# Define the function to preprocess the text\n",
    "def preprocess_text(x, remove_stopwords=False):\n",
    "    x = x.lower()\n",
    "    x = re.sub(\"[^a-z\\s+]\",\"\",x)\n",
    "    if remove_stopwords:\n",
    "        x = \" \".join([word for word in x.split() if word not in stopwords.words('english')])\n",
    "    return x\n",
    "\n",
    "# Load the essays dataset\n",
    "essays_df = pd.read_csv('/kaggle/input/answerscript4/p7.csv', encoding='latin-1')\n",
    "\n",
    "# Remove essays that have a domain1_score of NaN\n",
    "essays_df = essays_df[~essays_df['domain1_score'].isna()]\n",
    "\n",
    "# Remove stopwords from the essays\n",
    "essays_df['essay'] = essays_df['essay'].apply(preprocess_text, remove_stopwords=True)\n",
    "essays_df['expected']=answer_sheet\n"
   ]
  },
  {
   "cell_type": "code",
   "execution_count": 17,
   "metadata": {
    "execution": {
     "iopub.execute_input": "2023-03-14T20:12:39.930251Z",
     "iopub.status.busy": "2023-03-14T20:12:39.929831Z",
     "iopub.status.idle": "2023-03-14T20:12:40.599053Z",
     "shell.execute_reply": "2023-03-14T20:12:40.597923Z",
     "shell.execute_reply.started": "2023-03-14T20:12:39.930209Z"
    }
   },
   "outputs": [],
   "source": [
    "# Split the dataset into training, validation, and test sets\n",
    "train_df, test_df = train_test_split(essays_df, test_size=0.1, random_state=42)\n",
    "train_df, val_df = train_test_split(train_df, test_size=0.1, random_state=42)\n",
    "\n",
    "# Tokenize the texts\n",
    "tokenizer = Tokenizer()\n",
    "tokenizer.fit_on_texts(train_df['essay'])\n",
    "\n",
    "# Convert the texts to sequences and pad them to the specified maximum length\n",
    "X_expected_train = pad_sequences(tokenizer.texts_to_sequences(train_df['expected']), maxlen=MAX_SEQUENCE_LENGTH)\n",
    "X_actual_train = pad_sequences(tokenizer.texts_to_sequences(train_df['essay']), maxlen=MAX_SEQUENCE_LENGTH)\n",
    "y_train = train_df['domain1_score'].values /t\n",
    "\n",
    "X_expected_val = pad_sequences(tokenizer.texts_to_sequences(val_df['expected']), maxlen=MAX_SEQUENCE_LENGTH)\n",
    "X_actual_val = pad_sequences(tokenizer.texts_to_sequences(val_df['essay']), maxlen=MAX_SEQUENCE_LENGTH)\n",
    "y_val = val_df['domain1_score'].values /t\n",
    "\n",
    "X_expected_test = pad_sequences(tokenizer.texts_to_sequences(test_df['expected']), maxlen=MAX_SEQUENCE_LENGTH)\n",
    "X_actual_test = pad_sequences(tokenizer.texts_to_sequences(test_df['essay']), maxlen=MAX_SEQUENCE_LENGTH)\n",
    "y_test = test_df['domain1_score'].values /t\n",
    "\n",
    "# Define the inputs and embedding layer\n",
    "expected_input = Input(shape=(MAX_SEQUENCE_LENGTH,), dtype='int32', name='expected_input')\n",
    "actual_input = Input(shape=(MAX_SEQUENCE_LENGTH,), dtype='int32', name='actual_input')\n",
    "embedding_layer = Embedding(input_dim=len(tokenizer.word_index) + 1, output_dim=EMBEDDING_DIM, input_length=MAX_SEQUENCE_LENGTH)\n",
    "\n",
    "# Encode the inputs with the embedding layer\n",
    "expected_encoded = embedding_layer(expected_input)\n",
    "actual_encoded = embedding_layer(actual_input)\n",
    "\n"
   ]
  },
  {
   "cell_type": "code",
   "execution_count": 18,
   "metadata": {
    "execution": {
     "iopub.execute_input": "2023-03-14T20:12:40.600914Z",
     "iopub.status.busy": "2023-03-14T20:12:40.600577Z",
     "iopub.status.idle": "2023-03-14T20:17:39.715186Z",
     "shell.execute_reply": "2023-03-14T20:17:39.713824Z",
     "shell.execute_reply.started": "2023-03-14T20:12:40.600883Z"
    }
   },
   "outputs": [
    {
     "name": "stdout",
     "output_type": "stream",
     "text": [
      "Epoch 1/10\n",
      "20/20 [==============================] - 32s 1s/step - loss: 0.1542 - mae: 0.1542 - val_loss: 0.1126 - val_mae: 0.1126\n",
      "Epoch 2/10\n",
      "20/20 [==============================] - 29s 1s/step - loss: 0.0990 - mae: 0.0990 - val_loss: 0.0919 - val_mae: 0.0919\n",
      "Epoch 3/10\n",
      "20/20 [==============================] - 29s 1s/step - loss: 0.0747 - mae: 0.0747 - val_loss: 0.0943 - val_mae: 0.0943\n",
      "Epoch 4/10\n",
      "20/20 [==============================] - 29s 1s/step - loss: 0.0605 - mae: 0.0605 - val_loss: 0.0969 - val_mae: 0.0969\n",
      "Epoch 5/10\n",
      "20/20 [==============================] - 29s 1s/step - loss: 0.0506 - mae: 0.0506 - val_loss: 0.0956 - val_mae: 0.0956\n",
      "Epoch 6/10\n",
      "20/20 [==============================] - 30s 1s/step - loss: 0.0438 - mae: 0.0438 - val_loss: 0.0940 - val_mae: 0.0940\n",
      "Epoch 7/10\n",
      "20/20 [==============================] - 29s 1s/step - loss: 0.0374 - mae: 0.0374 - val_loss: 0.0956 - val_mae: 0.0956\n",
      "Epoch 8/10\n",
      "20/20 [==============================] - 30s 1s/step - loss: 0.0357 - mae: 0.0357 - val_loss: 0.0994 - val_mae: 0.0994\n",
      "Epoch 9/10\n",
      "20/20 [==============================] - 29s 1s/step - loss: 0.0352 - mae: 0.0352 - val_loss: 0.0954 - val_mae: 0.0954\n",
      "Epoch 10/10\n",
      "20/20 [==============================] - 30s 1s/step - loss: 0.0290 - mae: 0.0290 - val_loss: 0.0964 - val_mae: 0.0964\n",
      "3/3 [==============================] - 1s 464ms/step - loss: 0.0957 - mae: 0.0957\n",
      "Test Loss: 0.09574949741363525\n",
      "Test MAE: 0.09574949741363525\n"
     ]
    }
   ],
   "source": [
    "# Define the LSTM layer\n",
    "lstm_layer = LSTM(NUM_LSTM_UNITS)\n",
    "\n",
    "# Define the dropout layer\n",
    "dropout_layer = Dropout(DROPOUT_RATE)\n",
    "\n",
    "# Define the output layer\n",
    "output_layer = Dense(1, activation='sigmoid')\n",
    "\n",
    "# Encode the expected and actual inputs\n",
    "expected_encoded = embedding_layer(expected_input)\n",
    "actual_encoded = embedding_layer(actual_input)\n",
    "\n",
    "# Pass the expected and actual inputs through the LSTM layer\n",
    "expected_output = lstm_layer(expected_encoded)\n",
    "actual_output = lstm_layer(actual_encoded)\n",
    "\n",
    "# Apply dropout to the LSTM outputs\n",
    "expected_output = dropout_layer(expected_output)\n",
    "actual_output = dropout_layer(actual_output)\n",
    "\n",
    "# Pass the LSTM outputs through the output layer\n",
    "expected_output = output_layer(expected_output)\n",
    "actual_output = output_layer(actual_output)\n",
    "\n",
    "\n",
    "model_inputs = [expected_input, actual_input]\n",
    "model_outputs = [actual_output]\n",
    "\n",
    "# Create the model\n",
    "model = Model(inputs=model_inputs, outputs=model_outputs)\n",
    "\n",
    "# Compile the model with MAE as the loss function\n",
    "model.compile(loss='mean_absolute_error', optimizer='adam', metrics=['mae'])\n",
    "\n",
    "# Train the model\n",
    "model.fit(x=[X_expected_train, X_actual_train], y=y_train, batch_size=BATCH_SIZE, epochs=EPOCHS, validation_data=([X_expected_val, X_actual_val], y_val))\n",
    "\n",
    "# Evaluate the model\n",
    "loss, mae = model.evaluate([X_expected_test, X_actual_test], y_test, batch_size=BATCH_SIZE)\n",
    "print('Test Loss:', loss)\n",
    "print('Test MAE:', mae)"
   ]
  },
  {
   "cell_type": "code",
   "execution_count": null,
   "metadata": {},
   "outputs": [],
   "source": []
  }
 ],
 "metadata": {
  "kernelspec": {
   "display_name": "Python 3 (ipykernel)",
   "language": "python",
   "name": "python3"
  },
  "language_info": {
   "codemirror_mode": {
    "name": "ipython",
    "version": 3
   },
   "file_extension": ".py",
   "mimetype": "text/x-python",
   "name": "python",
   "nbconvert_exporter": "python",
   "pygments_lexer": "ipython3",
   "version": "3.9.13"
  }
 },
 "nbformat": 4,
 "nbformat_minor": 4
}
